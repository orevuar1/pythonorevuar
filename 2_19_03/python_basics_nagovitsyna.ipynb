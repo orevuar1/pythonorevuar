{
 "cells": [
  {
   "cell_type": "markdown",
   "metadata": {},
   "source": [
    "**Задание 1**. Даны 2 строки: *long_phrase* и *short_phrase*. \n",
    "Напишите код, который проверяет действительно ли длинная фраза *long_phrase* длиннее короткой *short_phrase*. И выводит *True* или *False* в зависимости от результата сравнения."
   ]
  },
  {
   "cell_type": "code",
   "execution_count": 2,
   "metadata": {},
   "outputs": [],
   "source": [
    "long_phrase = 'Насколько проще было бы писать программы, если бы не заказчики'\n",
    "short_phrase = '640Кб должно хватить для любых задач. Билл Гейтс (по легенде)'"
   ]
  },
  {
   "cell_type": "code",
   "execution_count": 9,
   "metadata": {},
   "outputs": [
    {
     "data": {
      "text/plain": [
       "True"
      ]
     },
     "execution_count": 9,
     "metadata": {},
     "output_type": "execute_result"
    }
   ],
   "source": [
    "len(long_phrase) > len(short_phrase)"
   ]
  },
  {
   "cell_type": "markdown",
   "metadata": {},
   "source": [
    "**Задание 2**. Дано значение объема файла в байтах (*в мегабайте 2^20 байт*). Напишите перевод этого значения в мегабайты в формате: \"*Объем файла равен 213.68Mb*\"."
   ]
  },
  {
   "cell_type": "code",
   "execution_count": 24,
   "metadata": {},
   "outputs": [
    {
     "name": "stdout",
     "output_type": "stream",
     "text": [
      "Объем файла равен 1.9Mb\n"
     ]
    }
   ],
   "source": [
    "file_volume = 1993248\n",
    "mb = file_volume / (2**20)\n",
    "print (f'Объем файла равен {round(mb, 2)}Mb')"
   ]
  },
  {
   "cell_type": "markdown",
   "metadata": {},
   "source": [
    "**Задание 3**. Разработать приложение для определения знака зодиака по дате рождения. Пример:\n",
    "\n",
    "Введите месяц: март\n",
    "\n",
    "Введите число: 6\n",
    "\n",
    "Вывод:\n",
    "Рыбы"
   ]
  },
  {
   "cell_type": "code",
   "execution_count": 77,
   "metadata": {},
   "outputs": [
    {
     "name": "stdout",
     "output_type": "stream",
     "text": [
      "Введите месяц: июль\n",
      "Введите число: 23\n",
      "лев\n"
     ]
    }
   ],
   "source": [
    "month = str(input ('Введите месяц: '))\n",
    "day = int(input ('Введите число: '))\n",
    "\n",
    "if month == 'январь' and day > 20:\n",
    "    print (\"водолей\")\n",
    "elif month == 'январь' and day <= 20:\n",
    "    print ('козерог') \n",
    "elif month == 'февраль' and day <= 19:\n",
    "    print ('водолей') \n",
    "elif month == 'февраль' and day > 19:\n",
    "    print ('рыбы') \n",
    "elif month == 'март' and day <= 20:\n",
    "    print ('рыбы') \n",
    "elif month == 'март' and day > 20:\n",
    "    print ('овен') \n",
    "elif month == 'апрель' and day <= 20:\n",
    "    print ('овен') \n",
    "elif month == 'апрель' and day > 20:\n",
    "    print ('телец') \n",
    "elif month == 'май' and day <= 21:\n",
    "    print ('телец') \n",
    "elif month == 'май' and day >  21:\n",
    "    print ('близнецы') \n",
    "elif month == 'июнь' and day <= 21:\n",
    "    print ('близнецы') \n",
    "elif month == 'июнь' and day >  21:\n",
    "    print ('рак') \n",
    "elif month == 'июль' and day <= 22:\n",
    "    print ('рак') \n",
    "elif month == 'июль' and day >  22:\n",
    "    print ('лев') \n",
    "elif month == 'август' and day <= 23:\n",
    "    print ('лев') \n",
    "elif month == 'август' and day >  23:\n",
    "    print ('дева') \n",
    "elif month == 'сентябрь' and day <= 22:\n",
    "    print ('дева') \n",
    "elif month == 'сентябрь' and day >  22:\n",
    "    print ('весы') \n",
    "elif month == 'октябрь' and day <= 22:\n",
    "    print ('весы') \n",
    "elif month == 'октябрь' and day >  22:\n",
    "    print ('скорпион') \n",
    "elif month == 'ноябрь' and day <= 22:\n",
    "    print ('скорпион') \n",
    "elif month == 'ноябрь' and day >  22:\n",
    "    print ('стрелец') \n",
    "elif month == 'декабрь' and day <= 21:\n",
    "    print ('стрелец') \n",
    "else:\n",
    "    print ('козерог')\n",
    "  "
   ]
  },
  {
   "cell_type": "markdown",
   "metadata": {},
   "source": [
    "# **Задание 4**. Нужно разработать приложение для финансового планирования.\n",
    "Приложение учитывает сколько уходит на ипотеку, \"на жизнь\" и сколько нужно отложить на пенсию.\n",
    "Пользователь вводит:\n",
    "- заработанную плату в месяц.\n",
    "- сколько процентов от ЗП уходит на ипотеку.\n",
    "- сколько процентов от ЗП уходит \"на жизнь\".\n",
    "- сколько раз приходит премия в год.\n",
    "\n",
    "Остальная часть заработанной платы откладывается на пенсию.\n",
    "\n",
    "Также пользователю приходит премия в размере зарплаты, от которой половина уходит на отпуск, а вторая половина откладывается.\n",
    "\n",
    "Программа должна учитывать сколько премий было в год.\n",
    "\n",
    "Нужно вывести сколько денег тратит пользователь на ипотеку и сколько он накопит за год.\n",
    "\n",
    "Пример:\n",
    "\n",
    "Введите заработанную плату в месяц: 100000\n",
    "\n",
    "Введите сколько процентов уходит на ипотеку: 30\n",
    "\n",
    "Введите сколько процентов уходит на жизнь: 50\n",
    "\n",
    "Введите количество премий за год: 2\n",
    "\n",
    "Вывод:\n",
    "На ипотеку было потрачено: 360000 рублей\n",
    "Было накоплено: 340000 рублей"
   ]
  },
  {
   "cell_type": "code",
   "execution_count": 45,
   "metadata": {},
   "outputs": [
    {
     "name": "stdout",
     "output_type": "stream",
     "text": [
      "Введите заработанную плату в месяц: 100\n",
      "Введите, сколько процентов уходит на ипотеку: 20\n",
      "Введите, сколько процентов уходит на жизнь: 30\n",
      "Введите количество премий за год: 2\n",
      "700\n",
      "На ипотеку было потрачено: 240 рублей\n",
      "Было накоплаено: 700 рублей\n"
     ]
    }
   ],
   "source": [
    "salary = int(input (\"Введите заработанную плату в месяц: \"))\n",
    "mortgage_proc = int(input (\"Введите, сколько процентов уходит на ипотеку: \"))\n",
    "other = int(input (\"Введите, сколько процентов уходит на жизнь: \"))\n",
    "premium = int (input (\"Введите количество премий за год: \"))\n",
    "\n",
    "mortgage_sum = int (mortgage_proc/100 * salary * 12)\n",
    "other_sum = other/100 * salary * 12\n",
    "premium_sum = premium * salary/2\n",
    "deposit = int(salary * 12 - mortgage_sum - other_sum + premium_sum)\n",
    "print (deposit)\n",
    "print (f'На ипотеку было потрачено: {mortgage_sum} рублей')\n",
    "print (f'Было накоплаено: {deposit} рублей')\n"
   ]
  },
  {
   "cell_type": "code",
   "execution_count": null,
   "metadata": {},
   "outputs": [],
   "source": []
  }
 ],
 "metadata": {
  "kernelspec": {
   "display_name": "Python 3",
   "language": "python",
   "name": "python3"
  },
  "language_info": {
   "codemirror_mode": {
    "name": "ipython",
    "version": 3
   },
   "file_extension": ".py",
   "mimetype": "text/x-python",
   "name": "python",
   "nbconvert_exporter": "python",
   "pygments_lexer": "ipython3",
   "version": "3.7.0"
  }
 },
 "nbformat": 4,
 "nbformat_minor": 2
}
