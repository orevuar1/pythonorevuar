{
 "cells": [
  {
   "cell_type": "markdown",
   "metadata": {},
   "source": [
    "Вы работаете секретарем и вам постоянно приходят различные документы. Вы должны быть очень внимательны, чтобы не потерять ни один документ. Каталог документов хранится в следующем виде:"
   ]
  },
  {
   "cell_type": "code",
   "execution_count": 1,
   "metadata": {},
   "outputs": [],
   "source": [
    "documents = [\n",
    "    {'type': 'passport', 'number': '2207 876234', 'name': 'Василий Гупкин'},\n",
    "    {'type': 'invoice', 'number': '11-2', 'name': 'Геннадий Покемонов'},\n",
    "    {'type': 'insurance', 'number': '10006', 'name': 'Аристарх Павлов'},\n",
    "    {'type': 'passport', 'number': '55', 'name': 'Андрей Павлов'}\n",
    "]"
   ]
  },
  {
   "cell_type": "markdown",
   "metadata": {},
   "source": [
    "Перечень полок, на которых находятся документы хранится в следующем виде:"
   ]
  },
  {
   "cell_type": "code",
   "execution_count": 2,
   "metadata": {},
   "outputs": [],
   "source": [
    "directories = {\n",
    "    '1': ['2207 876234', '11-2'],\n",
    "    '2': ['10006'],\n",
    "    '3': ['55']\n",
    "}"
   ]
  },
  {
   "cell_type": "markdown",
   "metadata": {},
   "source": [
    "Необходимо реализовать пользовательские команды (внимание! это не название функций, которые должны быть выразительными, а команды, которые вводит пользователь, чтобы получить необходимый результат):\n",
    "  \n",
    "- p – people – команда, которая спросит номер документа и выведет имя человека, которому он принадлежит;  \n",
    "- s – shelf – команда, которая спросит номер документа и выведет номер полки, на которой он находится  \n",
    "Правильно обработайте ситуацию, когда пользователь будет вводить несуществующий документ.\n",
    "- l – list – команда, которая выведет список всех документов в формате   \n",
    "**passport \"2207 876234\" \"Василий Гупкин\"**  \n",
    "- as – add shelf – команда, которая спросит номер новой полки и добавит ее в перечень\n",
    "- d – delete – команда, которая спросит номер документа и удалит его из каталога и из перечня полок. Предусмотрите сценарий, когда пользователь вводит несуществующий документ;  \n",
    "- m – move – команда, которая спросит номер документа и целевую полку и переместит его с текущей полки на целевую. Корректно обработайте кейсы, когда пользователь пытается переместить несуществующий документ или переместить документ на несуществующую полку;  \n",
    "- a – add – команда, которая добавит новый документ в каталог и в перечень полок, спросив его номер, тип, имя владельца и номер полки, на котором он будет храниться."
   ]
  },
  {
   "cell_type": "code",
   "execution_count": 3,
   "metadata": {},
   "outputs": [],
   "source": [
    "def get_people_using_number(docs):\n",
    "    number = input('Введите номер документа: ')\n",
    "    for doc in docs:\n",
    "        if doc['number'] == number:\n",
    "            print(f\"Документ принадлежит {doc['name']}\")\n",
    "        else: \"Такого номера нет в списке\""
   ]
  },
  {
   "cell_type": "code",
   "execution_count": 4,
   "metadata": {},
   "outputs": [],
   "source": [
    "def get_directory_using_number(library):\n",
    "    number = input('Введите номер документа: ')\n",
    "    for key, values in library.items():\n",
    "        if number in values:\n",
    "            x = key\n",
    "            print(x)\n"
   ]
  },
  {
   "cell_type": "code",
   "execution_count": 5,
   "metadata": {},
   "outputs": [],
   "source": [
    "def get_list_of_documents(docs):\n",
    "    for doc in docs:\n",
    "        print(f\"{doc['type']} \\\"{doc['number']}\\\" \\\"{doc['name']}\\\" \")"
   ]
  },
  {
   "cell_type": "code",
   "execution_count": 6,
   "metadata": {},
   "outputs": [],
   "source": [
    "def add_new_place(library):\n",
    "    new_shelf = input('Введите номер новой полки: ')\n",
    "    if new_shelf not in list(library.keys()):\n",
    "        library[new_shelf] = []\n",
    "        print (f'Полка с номером {new_shelf} добавлена')\n",
    "    else: print('Номер полки уже существует')"
   ]
  },
  {
   "cell_type": "code",
   "execution_count": 38,
   "metadata": {},
   "outputs": [],
   "source": [
    "def delete_document(docs,library):\n",
    "    flag_del = 0\n",
    "    i=0\n",
    "    doc_number = input('Введите номер документа, который нужно удалить: ')\n",
    "    for doc in docs:\n",
    "        if doc['number'] == doc_number:\n",
    "            del docs[i]\n",
    "            flag_del = 1\n",
    "            break\n",
    "        i+=1\n",
    "    if flag_del == 1:\n",
    "        for keys, values in library.items():\n",
    "            if values is not None:\n",
    "                if doc_number in values:\n",
    "                    library[keys]  = library[keys].remove(doc_number)\n",
    "                    print('Документ удален')\n",
    "    if flag_del == 0:\n",
    "        print('Невозможно удалить номер, которого нет в списке документов')"
   ]
  },
  {
   "cell_type": "code",
   "execution_count": 43,
   "metadata": {},
   "outputs": [
    {
     "name": "stdout",
     "output_type": "stream",
     "text": [
      "Введите номер документа, который нужно удалить: 2207 876234\n"
     ]
    }
   ],
   "source": [
    "delete_document(documents, directories)"
   ]
  },
  {
   "cell_type": "code",
   "execution_count": 44,
   "metadata": {},
   "outputs": [
    {
     "name": "stdout",
     "output_type": "stream",
     "text": [
      "[{'type': 'invoice', 'number': '11-2', 'name': 'Геннадий Покемонов'}, {'type': 'passport', 'number': '55', 'name': 'Андрей Павлов'}]\n"
     ]
    }
   ],
   "source": [
    "print(documents)"
   ]
  },
  {
   "cell_type": "code",
   "execution_count": 45,
   "metadata": {},
   "outputs": [
    {
     "name": "stdout",
     "output_type": "stream",
     "text": [
      "{'1': None, '2': None, '3': ['55']}\n"
     ]
    }
   ],
   "source": [
    "print(directories)"
   ]
  },
  {
   "cell_type": "code",
   "execution_count": 130,
   "metadata": {},
   "outputs": [],
   "source": [
    "def shelf_moving(library):\n",
    "    doc_number = input('Введите номер документа, который нужно переместить: ')\n",
    "    shelf_new_number = input('Введите номер полки, на которую нужно переместить: ')\n",
    "    flag_find = 0\n",
    "    if shelf_new_number in library.keys(): \n",
    "        for keys, values in library.items():\n",
    "            if values is not None:\n",
    "                if doc_number in values:\n",
    "                    to_del  = library[keys]\n",
    "                    to_del.remove(doc_number)\n",
    "                    to_add = library[str(shelf_new_number)]\n",
    "                    to_add.append(str(doc_number))\n",
    "                    flag_find = 1\n",
    "                    print('Перемещение прошло успешно')\n",
    "                    break\n",
    "        if flag_find == 0:\n",
    "            print('Такого номера документа не существует')\n",
    "    else: print('Такого номера полки не существует')"
   ]
  },
  {
   "cell_type": "code",
   "execution_count": 138,
   "metadata": {},
   "outputs": [
    {
     "name": "stdout",
     "output_type": "stream",
     "text": [
      "Введите номер документа, который нужно переместить: 324\n",
      "Введите номер полки, на которую нужно переместить: 2\n",
      "Такого номера документа не существует\n"
     ]
    }
   ],
   "source": [
    "shelf_moving(directories)"
   ]
  },
  {
   "cell_type": "code",
   "execution_count": 139,
   "metadata": {},
   "outputs": [
    {
     "name": "stdout",
     "output_type": "stream",
     "text": [
      "{'1': ['11-2', '55'], '2': ['2207 876234'], '3': ['10006']}\n"
     ]
    }
   ],
   "source": [
    "print(directories)"
   ]
  },
  {
   "cell_type": "code",
   "execution_count": 29,
   "metadata": {},
   "outputs": [],
   "source": [
    "def add_document(docs,library):\n",
    "    doc_number = input('Введите номер документа: ')\n",
    "    doc_type = input('Введите тип документа: ')\n",
    "    doc_holder = input('Введите имя владельца: ')\n",
    "    num_dir = input('Введите номер полки: ')\n",
    "    if num_dir in library.keys():\n",
    "        flag_exist = 0\n",
    "        for keys, values in library.items():\n",
    "            if values is not None:\n",
    "                if doc_number in values:\n",
    "                    flag_exist = 1\n",
    "                    break\n",
    "        if flag_exist == 1:\n",
    "            print('Документ с таким номером уже существует')\n",
    "        else:\n",
    "            new_doc = {'type': doc_type, 'number': doc_number, 'name': doc_holder}\n",
    "            docs.append(new_doc)\n",
    "            if library[str(num_dir)] is not None:\n",
    "                  to_add = library[str(num_dir)]\n",
    "                  to_add.append(str(doc_number))\n",
    "            else:\n",
    "                  library[str(num_dir)] = str(doc_number)    \n",
    "            print('Документ успешно создан')\n",
    "    else: print('Такого номера полки не существует')"
   ]
  },
  {
   "cell_type": "code",
   "execution_count": 30,
   "metadata": {},
   "outputs": [
    {
     "name": "stdout",
     "output_type": "stream",
     "text": [
      "Введите номер документа: 345\n",
      "Введите тип документа: 4\n",
      "Введите имя владельца: 3434\n",
      "Введите номер полки: 2\n",
      "Документ успешно создан\n"
     ]
    }
   ],
   "source": [
    "add_document(documents, directories)"
   ]
  },
  {
   "cell_type": "code",
   "execution_count": null,
   "metadata": {},
   "outputs": [],
   "source": [
    "print(documents)"
   ]
  },
  {
   "cell_type": "code",
   "execution_count": null,
   "metadata": {},
   "outputs": [],
   "source": [
    "print(directories)"
   ]
  },
  {
   "cell_type": "code",
   "execution_count": 6,
   "metadata": {},
   "outputs": [],
   "source": [
    "def main_func(docs, library):\n",
    "    input_command = input('Введите команду: ')\n",
    "    if input_command == \"p\":\n",
    "        get_people_using_number(docs)\n",
    "    elif input_command == \"s\":\n",
    "        get_directory_using_number(library)\n",
    "    elif input_command == \"l\":\n",
    "        get_list_of_documents(docs)\n",
    "    elif input_command == \"as\":\n",
    "        add_new_place(library)\n",
    "    elif input_command == \"d\":\n",
    "        delete_document(docs,library)\n",
    "    elif input_command == \"m\":\n",
    "        shelf_moving(library)\n",
    "    elif input_command == \"a\":\n",
    "        add_document(docs,library)\n",
    "    else: print(\"Несуществующая команда. Попробуйте еще раз\")"
   ]
  },
  {
   "cell_type": "code",
   "execution_count": 26,
   "metadata": {},
   "outputs": [],
   "source": [
    "#Создаем все функции\n",
    "documents = [\n",
    "    {'type': 'passport', 'number': '2207 876234', 'name': 'Василий Гупкин'},\n",
    "    {'type': 'invoice', 'number': '11-2', 'name': 'Геннадий Покемонов'},\n",
    "    {'type': 'insurance', 'number': '10006', 'name': 'Аристарх Павлов'},\n",
    "    {'type': 'passport', 'number': '55', 'name': 'Андрей Павлов'}\n",
    "]\n",
    "directories = {\n",
    "    '1': ['2207 876234', '11-2'],\n",
    "    '2': ['10006'],\n",
    "    '3': ['55']\n",
    "}\n",
    "\n",
    "def get_people_using_number(docs):\n",
    "    number = input('Введите номер документа: ')\n",
    "    for doc in docs:\n",
    "        if doc['number'] == number:\n",
    "            print(f\"Документ принадлежит {doc['name']}\")\n",
    "        else: \"Такого номера нет в списке\"\n",
    "                  \n",
    "def get_directory_using_number(library):\n",
    "    number = input('Введите номер документа: ')\n",
    "    for key, values in library.items():\n",
    "        if number in values:\n",
    "            x = key\n",
    "            print(x)\n",
    "            \n",
    "def get_list_of_documents(docs):\n",
    "    for doc in docs:\n",
    "        print(f\"{doc['type']} \\\"{doc['number']}\\\" \\\"{doc['name']}\\\" \")\n",
    "        \n",
    "def add_new_place(library):\n",
    "    new_shelf = input('Введите номер новой полки: ')\n",
    "    if new_shelf not in list(library.keys()):\n",
    "        library[new_shelf] = []\n",
    "        print (f'Полка с номером {new_shelf} добавлена')\n",
    "    else: print('Номер полки уже существует')\n",
    "        \n",
    "def delete_document(docs,library):\n",
    "    flag_del = 0\n",
    "    i=0\n",
    "    doc_number = input('Введите номер документа, который нужно удалить: ')\n",
    "    for doc in docs:\n",
    "        if doc['number'] == doc_number:\n",
    "            del docs[i]\n",
    "            flag_del = 1\n",
    "            break\n",
    "        i+=1\n",
    "    if flag_del == 1:\n",
    "        for keys, values in library.items():\n",
    "            if values is not None:\n",
    "                if doc_number in values:\n",
    "                    library[keys]  = library[keys].remove(doc_number)\n",
    "                    print('Документ удален')\n",
    "    if flag_del == 0:\n",
    "        print('Невозможно удалить номер, которого нет в списке документов')\n",
    "        \n",
    "def shelf_moving(library):\n",
    "    doc_number = input('Введите номер документа, который нужно переместить: ')\n",
    "    shelf_new_number = input('Введите номер полки, на которую нужно переместить: ')\n",
    "    flag_find = 0\n",
    "    if shelf_new_number in library.keys(): \n",
    "        for keys, values in library.items():\n",
    "            if values is not None:\n",
    "                if doc_number in values:\n",
    "                    to_del  = library[keys]\n",
    "                    to_del.remove(doc_number)\n",
    "                    to_add = library[str(shelf_new_number)]\n",
    "                    to_add.append(str(doc_number))\n",
    "                    flag_find = 1\n",
    "                    print('Перемещение прошло успешно')\n",
    "                    break\n",
    "        if flag_find == 0:\n",
    "            print('Такого номера документа не существует')\n",
    "    else: print('Такого номера полки не существует')\n",
    "        \n",
    "def add_document(docs,library):\n",
    "    doc_number = input('Введите номер документа: ')\n",
    "    doc_type = input('Введите тип документа: ')\n",
    "    doc_holder = input('Введите имя владельца: ')\n",
    "    num_dir = input('Введите номер полки: ')\n",
    "    if num_dir in library.keys():\n",
    "        flag_exist = 0\n",
    "        for keys, values in library.items():\n",
    "            if values is not None:\n",
    "                if doc_number in values:\n",
    "                    flag_exist = 1\n",
    "                    break\n",
    "        if flag_exist == 1:\n",
    "            print('Документ с таким номером уже существует')\n",
    "        else:\n",
    "            new_doc = {'type': doc_type, 'number': doc_number, 'name': doc_holder}\n",
    "            docs.append(new_doc)\n",
    "            if library[str(num_dir)] is not None:\n",
    "                  to_add = library[str(num_dir)]\n",
    "                  to_add.append(str(doc_number))\n",
    "            else:\n",
    "                  library[str(num_dir)] = str(doc_number)                  \n",
    "            print('Документ успешно создан')\n",
    "    else: print('Такого номера полки не существует')\n",
    "        \n",
    "def main_func(docs, library):\n",
    "    input_command = input('Введите команду: ')\n",
    "    if input_command == \"p\":\n",
    "        get_people_using_number(docs)\n",
    "    elif input_command == \"s\":\n",
    "        get_directory_using_number(library)\n",
    "    elif input_command == \"l\":\n",
    "        get_list_of_documents(docs)\n",
    "    elif input_command == \"as\":\n",
    "        add_new_place(library)\n",
    "    elif input_command == \"d\":\n",
    "        delete_document(docs,library)\n",
    "    elif input_command == \"m\":\n",
    "        shelf_moving(library)\n",
    "    elif input_command == \"a\":\n",
    "        add_document(docs,library)\n",
    "    else: print(\"Несуществующая команда. Попробуйте еще раз\")"
   ]
  },
  {
   "cell_type": "code",
   "execution_count": 33,
   "metadata": {},
   "outputs": [
    {
     "name": "stdout",
     "output_type": "stream",
     "text": [
      "Введите команду: m\n",
      "Введите номер документа, который нужно переместить: 34\n",
      "Введите номер полки, на которую нужно переместить: 3\n",
      "Перемещение прошло успешно\n"
     ]
    }
   ],
   "source": [
    "main_func(documents, directories)"
   ]
  },
  {
   "cell_type": "code",
   "execution_count": 34,
   "metadata": {},
   "outputs": [
    {
     "name": "stdout",
     "output_type": "stream",
     "text": [
      "[{'type': 'passport', 'number': '2207 876234', 'name': 'Василий Гупкин'}, {'type': 'invoice', 'number': '11-2', 'name': 'Геннадий Покемонов'}, {'type': 'insurance', 'number': '10006', 'name': 'Аристарх Павлов'}, {'type': 'passport', 'number': '55', 'name': 'Андрей Павлов'}, {'type': 'pass', 'number': '34', 'name': 'петроний'}, {'type': '4', 'number': '345', 'name': '3434'}]\n"
     ]
    }
   ],
   "source": [
    "print(documents)"
   ]
  },
  {
   "cell_type": "code",
   "execution_count": 35,
   "metadata": {},
   "outputs": [
    {
     "name": "stdout",
     "output_type": "stream",
     "text": [
      "{'1': ['2207 876234', '11-2'], '2': ['10006', '345'], '3': ['55', '34']}\n"
     ]
    }
   ],
   "source": [
    "print(directories)"
   ]
  }
 ],
 "metadata": {
  "kernelspec": {
   "display_name": "Python 3",
   "language": "python",
   "name": "python3"
  }
 },
 "nbformat": 4,
 "nbformat_minor": 2
}
