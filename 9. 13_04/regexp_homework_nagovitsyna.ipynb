{
 "cells": [
  {
   "cell_type": "code",
   "execution_count": 155,
   "metadata": {},
   "outputs": [],
   "source": [
    "import re"
   ]
  },
  {
   "cell_type": "markdown",
   "metadata": {},
   "source": [
    "### Задание 1"
   ]
  },
  {
   "cell_type": "code",
   "execution_count": 76,
   "metadata": {},
   "outputs": [],
   "source": [
    "def check_auto_number(nm):\n",
    "    regex_template = r'^[АВЕКМНОРСТУХ]\\d{3}(?<!000)[АВЕКМНОРСТУХ]{2}\\d{2,3}'\n",
    "    regex_num = r'^[АВЕКМНОРСТУХ]\\d{3}(?<!000)[АВЕКМНОРСТУХ]{2}'\n",
    "    if len(re.findall(regex_template, nm)) == 1:\n",
    "        return f\"Номер: {re.findall(regex_num, nm)[0]} Регион: {nm.replace(re.findall(regex_num, nm)[0], '')}\"\n",
    "    else: \n",
    "        return ('Невалидный номер') "
   ]
  },
  {
   "cell_type": "code",
   "execution_count": 79,
   "metadata": {},
   "outputs": [
    {
     "data": {
      "text/plain": [
       "'Номер: А777КА Регион: 174'"
      ]
     },
     "execution_count": 79,
     "metadata": {},
     "output_type": "execute_result"
    }
   ],
   "source": [
    "check_auto_number('А777КА174')"
   ]
  },
  {
   "cell_type": "markdown",
   "metadata": {},
   "source": [
    "### Задание 2"
   ]
  },
  {
   "cell_type": "code",
   "execution_count": 123,
   "metadata": {},
   "outputs": [],
   "source": [
    "def check_email(email):    \n",
    "    regex_template = '^([0-9a-zA-Z._-]){4,}@\\w{2,}([\\.-]?\\+)*(\\.\\w{2,4})+$'\n",
    "    if(re.search( regex_template, email)):  \n",
    "        print(\"Валидный email\")  \n",
    "    else:  \n",
    "        print(\"Невалидный email\")  "
   ]
  },
  {
   "cell_type": "code",
   "execution_count": 131,
   "metadata": {},
   "outputs": [
    {
     "name": "stdout",
     "output_type": "stream",
     "text": [
      "Валидный email\n"
     ]
    }
   ],
   "source": [
    "check_email('orevuar@mail.ru')"
   ]
  },
  {
   "cell_type": "markdown",
   "metadata": {},
   "source": [
    "### Задание 3"
   ]
  },
  {
   "cell_type": "code",
   "execution_count": 349,
   "metadata": {},
   "outputs": [],
   "source": [
    "def remove_dublicate(input_str):\n",
    "    str_result = re.sub(r'\\b(\\w+)( \\1\\b)+', r'\\1', input_str)\n",
    "    return str_result"
   ]
  },
  {
   "cell_type": "code",
   "execution_count": 352,
   "metadata": {},
   "outputs": [
    {
     "data": {
      "text/plain": [
       "'ret dfdf ret dfdf'"
      ]
     },
     "execution_count": 352,
     "metadata": {},
     "output_type": "execute_result"
    }
   ],
   "source": [
    "remove_dublicate('ret dfdf ret ret dfdf dfdf')"
   ]
  },
  {
   "cell_type": "markdown",
   "metadata": {},
   "source": [
    "### Задание 4"
   ]
  },
  {
   "cell_type": "code",
   "execution_count": 252,
   "metadata": {},
   "outputs": [],
   "source": [
    "def convert_phone_num(phone_num):\n",
    "    list_template = [\n",
    "        r'^[+]{0,1}\\d{1}[( ]{0,1}\\d{3}[+) ]{0,2}\\d{3}[-+ ]{0,1}\\d{2}[-+ ]{0,1}\\d{2}',\n",
    "        r'^\\d{10}'\n",
    "    ]\n",
    "    for tmpl in list_template:\n",
    "        if len(re.findall(tmpl, phone_num)) == 1: \n",
    "            print(\"Валидный номер\")\n",
    "            num_digit = re.sub('\\D', '', phone_num)\n",
    "            return \"+\"+ num_digit[0] + \"(\" + num_digit[1:4] + \")\" + \"-\" + num_digit[4:7] + \"-\" + num_digit[7:9] + \"-\" + num_digit[9:11]\n",
    "    return \"Невалидный телефонный номер\""
   ]
  },
  {
   "cell_type": "code",
   "execution_count": 262,
   "metadata": {},
   "outputs": [
    {
     "name": "stdout",
     "output_type": "stream",
     "text": [
      "Валидный номер\n"
     ]
    },
    {
     "data": {
      "text/plain": [
       "'+7(955)-555-55-55'"
      ]
     },
     "execution_count": 262,
     "metadata": {},
     "output_type": "execute_result"
    }
   ],
   "source": [
    "convert_phone_num(\"7(955) 555 55-55\")"
   ]
  }
 ],
 "metadata": {
  "kernelspec": {
   "display_name": "Python 3",
   "language": "python",
   "name": "python3"
  },
  "language_info": {
   "codemirror_mode": {
    "name": "ipython",
    "version": 3
   },
   "file_extension": ".py",
   "mimetype": "text/x-python",
   "name": "python",
   "nbconvert_exporter": "python",
   "pygments_lexer": "ipython3",
   "version": "3.7.6"
  }
 },
 "nbformat": 4,
 "nbformat_minor": 4
}
